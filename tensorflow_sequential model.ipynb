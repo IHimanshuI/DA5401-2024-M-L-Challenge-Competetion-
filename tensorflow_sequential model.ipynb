{
 "cells": [
  {
   "cell_type": "code",
   "execution_count": 1,
   "metadata": {},
   "outputs": [],
   "source": [
    "import numpy as np\n",
    "import tensorflow as tf\n",
    "from tensorflow.keras.models import Sequential\n",
    "from tensorflow.keras import metrics  \n",
    "from tensorflow.keras.layers import Dense, Dropout\n",
    "from sklearn.model_selection import train_test_split\n",
    "from sklearn.metrics import f1_score\n",
    "import pandas as pd\n",
    "from tensorflow.keras.optimizers import Adam, RMSprop, AdamW"
   ]
  },
  {
   "cell_type": "code",
   "execution_count": null,
   "metadata": {},
   "outputs": [],
   "source": [
    "# Load the data\n",
    "# Load embeddings and labels\n",
    "embeddings_1 = np.load('embeddings_1.npy')\n",
    "embeddings_2 = np.load('embeddings_2.npy')\n",
    "embeddings = np.vstack([embeddings_1, embeddings_2])  # Combine both embedding files"
   ]
  },
  {
   "cell_type": "code",
   "execution_count": 3,
   "metadata": {},
   "outputs": [],
   "source": [
    "# Load labels and convert them to multi-hot encoding\n",
    "with open('icd_codes_1.txt') as f1, open('icd_codes_2.txt') as f2:\n",
    "    labels_1 = [line.strip().split(';') for line in f1]\n",
    "    labels_2 = [line.strip().split(';') for line in f2]\n",
    "    labels = labels_1 + labels_2"
   ]
  },
  {
   "cell_type": "code",
   "execution_count": 4,
   "metadata": {},
   "outputs": [],
   "source": [
    "# Create a mapping for ICD10 codes to multi-hot encoding\n",
    "unique_codes = sorted(set(code for sublist in labels for code in sublist))\n",
    "code_to_index = {code: idx for idx, code in enumerate(unique_codes)}\n",
    "num_classes = len(unique_codes)"
   ]
  },
  {
   "cell_type": "code",
   "execution_count": 5,
   "metadata": {},
   "outputs": [],
   "source": [
    "# Convert labels to multi-hot vectors\n",
    "y = np.zeros((len(labels), num_classes), dtype=int)\n",
    "for i, label_list in enumerate(labels):\n",
    "    for code in label_list:\n",
    "        y[i, code_to_index[code]] = 1"
   ]
  },
  {
   "cell_type": "code",
   "execution_count": 6,
   "metadata": {},
   "outputs": [],
   "source": [
    "# Split data into train and validation sets\n",
    "X_train, X_val, y_train, y_val = train_test_split(embeddings, y, test_size=0.2, random_state=42)"
   ]
  },
  {
   "cell_type": "code",
   "execution_count": null,
   "metadata": {},
   "outputs": [
    {
     "name": "stderr",
     "output_type": "stream",
     "text": [
      "c:\\Users\\himan\\.conda\\envs\\hj\\lib\\site-packages\\keras\\src\\layers\\core\\dense.py:87: UserWarning: Do not pass an `input_shape`/`input_dim` argument to a layer. When using Sequential models, prefer using an `Input(shape)` object as the first layer in the model instead.\n",
      "  super().__init__(activity_regularizer=activity_regularizer, **kwargs)\n"
     ]
    }
   ],
   "source": [
    "# Define the model\n",
    "model = Sequential([\n",
    "    Dense(512, activation='relu', input_shape=(1024,)),\n",
    "    Dropout(0.3),\n",
    "    Dense(256, activation='relu'),\n",
    "    Dropout(0.3),\n",
    "    Dense(128, activation='relu'),\n",
    "    Dropout(0.3),\n",
    "    Dense(num_classes, activation='sigmoid')  # Sigmoid for multi-label classification\n",
    "])\n",
    "\n",
    "model.compile(optimizer=Adam(learning_rate=0.001), loss='binary_crossentropy', metrics=['accuracy',metrics.Precision(),metrics.Recall()])"
   ]
  },
  {
   "cell_type": "code",
   "execution_count": 8,
   "metadata": {},
   "outputs": [
    {
     "name": "stdout",
     "output_type": "stream",
     "text": [
      "Epoch 1/3\n",
      "\u001b[1m1244/1244\u001b[0m \u001b[32m━━━━━━━━━━━━━━━━━━━━\u001b[0m\u001b[37m\u001b[0m \u001b[1m12s\u001b[0m 8ms/step - accuracy: 0.1308 - loss: 0.0347 - precision: 0.0501 - recall: 0.1160 - val_accuracy: 0.4943 - val_loss: 0.0030 - val_precision: 0.7978 - val_recall: 0.5311\n",
      "Epoch 2/3\n",
      "\u001b[1m1244/1244\u001b[0m \u001b[32m━━━━━━━━━━━━━━━━━━━━\u001b[0m\u001b[37m\u001b[0m \u001b[1m24s\u001b[0m 19ms/step - accuracy: 0.4626 - loss: 0.0036 - precision: 0.7832 - recall: 0.4308 - val_accuracy: 0.5493 - val_loss: 0.0024 - val_precision: 0.8208 - val_recall: 0.6372\n",
      "Epoch 3/3\n",
      "\u001b[1m1244/1244\u001b[0m \u001b[32m━━━━━━━━━━━━━━━━━━━━\u001b[0m\u001b[37m\u001b[0m \u001b[1m47s\u001b[0m 24ms/step - accuracy: 0.5129 - loss: 0.0030 - precision: 0.8055 - recall: 0.5177 - val_accuracy: 0.5586 - val_loss: 0.0022 - val_precision: 0.8307 - val_recall: 0.6608\n"
     ]
    },
    {
     "data": {
      "text/plain": [
       "<keras.src.callbacks.history.History at 0x268d3e85810>"
      ]
     },
     "execution_count": 8,
     "metadata": {},
     "output_type": "execute_result"
    }
   ],
   "source": [
    "# Step 3: Train the model\n",
    "model.fit(X_train, y_train, epochs=3, batch_size=128, validation_data=(X_val, y_val))"
   ]
  },
  {
   "cell_type": "code",
   "execution_count": null,
   "metadata": {},
   "outputs": [],
   "source": [
    "# Load the test embeddings\n",
    "test_embeddings = np.load('test_data.npy')"
   ]
  },
  {
   "cell_type": "code",
   "execution_count": null,
   "metadata": {},
   "outputs": [
    {
     "name": "stdout",
     "output_type": "stream",
     "text": [
      "\u001b[1m3110/3110\u001b[0m \u001b[32m━━━━━━━━━━━━━━━━━━━━\u001b[0m\u001b[37m\u001b[0m \u001b[1m4s\u001b[0m 1ms/step\n"
     ]
    }
   ],
   "source": [
    "# Make predictions on the test data\n",
    "# Load the model (assuming you've already trained and saved it if needed)\n",
    "y_test_pred = model.predict(test_embeddings)"
   ]
  },
  {
   "cell_type": "code",
   "execution_count": 11,
   "metadata": {},
   "outputs": [],
   "source": [
    "for i in range(10000):\n",
    "    if y_test_pred[i][938]>=0.42:\n",
    "        print('yes')"
   ]
  },
  {
   "cell_type": "code",
   "execution_count": null,
   "metadata": {},
   "outputs": [
    {
     "name": "stdout",
     "output_type": "stream",
     "text": [
      "\u001b[1m1244/1244\u001b[0m \u001b[32m━━━━━━━━━━━━━━━━━━━━\u001b[0m\u001b[37m\u001b[0m \u001b[1m1s\u001b[0m 1ms/step\n",
      "Micro F2 Score on validation set: 0.7397\n"
     ]
    }
   ],
   "source": [
    "# Evaluate the model\n",
    "# Predict on the validation set and compute micro F2 score\n",
    "y_val_pred = model.predict(X_val) > 0.43 # Convert probabilities to binary predictions\n",
    "micro_f2_score = f1_score(y_val, y_val_pred, average='micro')\n",
    "\n",
    "print(f'Micro F2 Score on validation set: {micro_f2_score:.4f}')\n"
   ]
  },
  {
   "cell_type": "code",
   "execution_count": null,
   "metadata": {},
   "outputs": [],
   "source": [
    "# Convert predictions to ICD10 code labels\n",
    "# Apply threshold to determine which codes to include (e.g., 0.5 threshold)\n",
    "threshold = 0.42\n",
    "test_labels_pred = (y_test_pred > threshold).astype(int)"
   ]
  },
  {
   "cell_type": "code",
   "execution_count": 15,
   "metadata": {},
   "outputs": [
    {
     "data": {
      "text/plain": [
       "(99490, 1400)"
      ]
     },
     "execution_count": 15,
     "metadata": {},
     "output_type": "execute_result"
    }
   ],
   "source": [
    "test_labels_pred.shape"
   ]
  },
  {
   "cell_type": "code",
   "execution_count": null,
   "metadata": {},
   "outputs": [],
   "source": [
    "# Create a submission file in the specified format\n",
    "# Map indices back to ICD10 codes\n",
    "index_to_code = {v: k for k, v in code_to_index.items()}\n",
    "\n",
    "submission_data = []\n",
    "for idx, label_vector in enumerate(test_labels_pred, start=1):\n",
    "    # Get codes with predictions above the threshold and sort lexicographically\n",
    "    codes = [index_to_code[i] for i, val in enumerate(label_vector) if val == 1]\n",
    "    codes = sorted(codes)  # Sort lexicographically\n",
    "    label_string = ';'.join(codes) if codes else ''  # Stitch with ';' or leave blank if no label\n",
    "    submission_data.append({'id': idx, 'labels': label_string})"
   ]
  },
  {
   "cell_type": "code",
   "execution_count": 21,
   "metadata": {},
   "outputs": [
    {
     "data": {
      "text/html": [
       "<div>\n",
       "<style scoped>\n",
       "    .dataframe tbody tr th:only-of-type {\n",
       "        vertical-align: middle;\n",
       "    }\n",
       "\n",
       "    .dataframe tbody tr th {\n",
       "        vertical-align: top;\n",
       "    }\n",
       "\n",
       "    .dataframe thead th {\n",
       "        text-align: right;\n",
       "    }\n",
       "</style>\n",
       "<table border=\"1\" class=\"dataframe\">\n",
       "  <thead>\n",
       "    <tr style=\"text-align: right;\">\n",
       "      <th></th>\n",
       "      <th>id</th>\n",
       "      <th>labels</th>\n",
       "    </tr>\n",
       "  </thead>\n",
       "  <tbody>\n",
       "    <tr>\n",
       "      <th>0</th>\n",
       "      <td>1</td>\n",
       "      <td>G56.21</td>\n",
       "    </tr>\n",
       "    <tr>\n",
       "      <th>1</th>\n",
       "      <td>2</td>\n",
       "      <td>M65.9;S83.242A</td>\n",
       "    </tr>\n",
       "    <tr>\n",
       "      <th>2</th>\n",
       "      <td>3</td>\n",
       "      <td>G56.01</td>\n",
       "    </tr>\n",
       "    <tr>\n",
       "      <th>3</th>\n",
       "      <td>4</td>\n",
       "      <td>M65.312</td>\n",
       "    </tr>\n",
       "    <tr>\n",
       "      <th>4</th>\n",
       "      <td>5</td>\n",
       "      <td>S83.241A;S83.281A</td>\n",
       "    </tr>\n",
       "    <tr>\n",
       "      <th>...</th>\n",
       "      <td>...</td>\n",
       "      <td>...</td>\n",
       "    </tr>\n",
       "    <tr>\n",
       "      <th>99485</th>\n",
       "      <td>99486</td>\n",
       "      <td>D12.0;K57.30;K63.5</td>\n",
       "    </tr>\n",
       "    <tr>\n",
       "      <th>99486</th>\n",
       "      <td>99487</td>\n",
       "      <td>K31.89</td>\n",
       "    </tr>\n",
       "    <tr>\n",
       "      <th>99487</th>\n",
       "      <td>99488</td>\n",
       "      <td>D12.2;D12.5;K64.8;Z12.11</td>\n",
       "    </tr>\n",
       "    <tr>\n",
       "      <th>99488</th>\n",
       "      <td>99489</td>\n",
       "      <td>K21.9;K29.50</td>\n",
       "    </tr>\n",
       "    <tr>\n",
       "      <th>99489</th>\n",
       "      <td>99490</td>\n",
       "      <td>D12.2;D12.3;Z12.11</td>\n",
       "    </tr>\n",
       "  </tbody>\n",
       "</table>\n",
       "<p>99490 rows × 2 columns</p>\n",
       "</div>"
      ],
      "text/plain": [
       "          id                    labels\n",
       "0          1                    G56.21\n",
       "1          2            M65.9;S83.242A\n",
       "2          3                    G56.01\n",
       "3          4                   M65.312\n",
       "4          5         S83.241A;S83.281A\n",
       "...      ...                       ...\n",
       "99485  99486        D12.0;K57.30;K63.5\n",
       "99486  99487                    K31.89\n",
       "99487  99488  D12.2;D12.5;K64.8;Z12.11\n",
       "99488  99489              K21.9;K29.50\n",
       "99489  99490        D12.2;D12.3;Z12.11\n",
       "\n",
       "[99490 rows x 2 columns]"
      ]
     },
     "execution_count": 21,
     "metadata": {},
     "output_type": "execute_result"
    }
   ],
   "source": [
    "# Convert to DataFrame and save as CSV\n",
    "submission_df = pd.DataFrame(submission_data)\n",
    "submission_df"
   ]
  },
  {
   "cell_type": "code",
   "execution_count": 22,
   "metadata": {},
   "outputs": [
    {
     "name": "stdout",
     "output_type": "stream",
     "text": [
      "Submission file 'submission.csv' created successfully.\n"
     ]
    }
   ],
   "source": [
    "submission_df.to_csv('submission.csv', index=False)\n",
    "\n",
    "print(\"Submission file 'submission.csv' created successfully.\")"
   ]
  },
  {
   "cell_type": "code",
   "execution_count": null,
   "metadata": {},
   "outputs": [],
   "source": []
  }
 ],
 "metadata": {
  "kernelspec": {
   "display_name": "hj",
   "language": "python",
   "name": "python3"
  },
  "language_info": {
   "codemirror_mode": {
    "name": "ipython",
    "version": 3
   },
   "file_extension": ".py",
   "mimetype": "text/x-python",
   "name": "python",
   "nbconvert_exporter": "python",
   "pygments_lexer": "ipython3",
   "version": "3.10.3"
  }
 },
 "nbformat": 4,
 "nbformat_minor": 2
}
